{
 "cells": [
  {
   "cell_type": "code",
   "execution_count": 11,
   "id": "1e027408",
   "metadata": {},
   "outputs": [],
   "source": [
    "# 1. Imports e configuração de caminho\n",
    "import sys, os\n",
    "import pandas as pd\n",
    "\n",
    "# Adiciona src/ ao path\n",
    "src_path = os.path.join(os.getcwd(), \"src\")\n",
    "sys.path.append(src_path)\n",
    "\n",
    "from fetchers import fetch_inmet_climate, fetch_ibge_population_density\n",
    "\n",
    "# Cria pasta de saída\n",
    "os.makedirs(\"data/processed\", exist_ok=True)"
   ]
  },
  {
   "cell_type": "code",
   "execution_count": 12,
   "id": "71000464-2de1-43e8-baab-61ac5a7459bd",
   "metadata": {},
   "outputs": [
    {
     "name": "stdout",
     "output_type": "stream",
     "text": [
      "Base de dengue carregada: (812, 30)\n"
     ]
    }
   ],
   "source": [
    "# 2. Carrega base \n",
    "DENGUE_URL = (\n",
    "    \"https://raw.githubusercontent.com/\"\n",
    "    \"valdineyatilio/ProjetoAplicado-IV/\"\n",
    "    \"main/A1/DadosDengueCSV.csv\"\n",
    ")\n",
    "\n",
    "df_dengue = pd.read_csv(DENGUE_URL)\n",
    "print(\"Base de dengue carregada:\", df_dengue.shape)"
   ]
  },
  {
   "cell_type": "code",
   "execution_count": 9,
   "id": "04d0826f",
   "metadata": {},
   "outputs": [
    {
     "name": "stdout",
     "output_type": "stream",
     "text": [
      "[WARN] Estação A507 retornou status 404. Pulando.\n",
      "[WARN] Estação A518 retornou status 404. Pulando.\n",
      "[WARN] Estação A541 retornou status 404. Pulando.\n",
      "[WARN] Nenhuma estação INMET retornou dados válidos. Gerando dados simulados.\n",
      "Clima salvo: (313, 6)\n"
     ]
    }
   ],
   "source": [
    "# 3. Coleta clima INMET \n",
    "stations = [\"A507\", \"A518\", \"A541\"]  \n",
    "\n",
    "try:\n",
    "    df_clima = fetch_inmet_climate(stations, \"2015-01-01\", \"2025-12-31\")\n",
    "except RuntimeError:\n",
    "    print(\"[WARN] Nenhuma estação INMET retornou dados válidos. Gerando dados simulados.\")\n",
    "\n",
    "    import numpy as np\n",
    "    weeks = pd.date_range(\"2018-01-01\", \"2023-12-31\", freq=\"W-MON\")\n",
    "    df_clima = pd.DataFrame({\n",
    "        \"datahora\": weeks,\n",
    "        \"station\": \"SIMULADA\",\n",
    "        \"year\": weeks.isocalendar().year,\n",
    "        \"week\": weeks.isocalendar().week,\n",
    "        \"t_mean\": np.random.normal(loc=22, scale=3, size=len(weeks)),\n",
    "        \"precip_sum\": np.random.gamma(shape=2, scale=10, size=len(weeks))\n",
    "    })\n",
    "\n",
    "# Salva clima\n",
    "df_clima.to_csv(\"data/processed/clima_inmet.csv\", index=False)\n",
    "print(\"Clima salvo:\", df_clima.shape)"
   ]
  },
  {
   "cell_type": "code",
   "execution_count": 10,
   "id": "aad439fe",
   "metadata": {},
   "outputs": [
    {
     "ename": "KeyError",
     "evalue": "'municipio_id'",
     "output_type": "error",
     "traceback": [
      "\u001b[1;31m---------------------------------------------------------------------------\u001b[0m",
      "\u001b[1;31mKeyError\u001b[0m                                  Traceback (most recent call last)",
      "File \u001b[1;32m~\\anaconda3\\Lib\\site-packages\\pandas\\core\\indexes\\base.py:3791\u001b[0m, in \u001b[0;36mIndex.get_loc\u001b[1;34m(self, key)\u001b[0m\n\u001b[0;32m   3790\u001b[0m \u001b[38;5;28;01mtry\u001b[39;00m:\n\u001b[1;32m-> 3791\u001b[0m     \u001b[38;5;28;01mreturn\u001b[39;00m \u001b[38;5;28mself\u001b[39m\u001b[38;5;241m.\u001b[39m_engine\u001b[38;5;241m.\u001b[39mget_loc(casted_key)\n\u001b[0;32m   3792\u001b[0m \u001b[38;5;28;01mexcept\u001b[39;00m \u001b[38;5;167;01mKeyError\u001b[39;00m \u001b[38;5;28;01mas\u001b[39;00m err:\n",
      "File \u001b[1;32mindex.pyx:152\u001b[0m, in \u001b[0;36mpandas._libs.index.IndexEngine.get_loc\u001b[1;34m()\u001b[0m\n",
      "File \u001b[1;32mindex.pyx:181\u001b[0m, in \u001b[0;36mpandas._libs.index.IndexEngine.get_loc\u001b[1;34m()\u001b[0m\n",
      "File \u001b[1;32mpandas\\_libs\\hashtable_class_helper.pxi:7080\u001b[0m, in \u001b[0;36mpandas._libs.hashtable.PyObjectHashTable.get_item\u001b[1;34m()\u001b[0m\n",
      "File \u001b[1;32mpandas\\_libs\\hashtable_class_helper.pxi:7088\u001b[0m, in \u001b[0;36mpandas._libs.hashtable.PyObjectHashTable.get_item\u001b[1;34m()\u001b[0m\n",
      "\u001b[1;31mKeyError\u001b[0m: 'municipio_id'",
      "\nThe above exception was the direct cause of the following exception:\n",
      "\u001b[1;31mKeyError\u001b[0m                                  Traceback (most recent call last)",
      "Cell \u001b[1;32mIn[10], line 2\u001b[0m\n\u001b[0;32m      1\u001b[0m \u001b[38;5;66;03m# 4. Coleta densidade populacional via IBGE\u001b[39;00m\n\u001b[1;32m----> 2\u001b[0m mun_ids \u001b[38;5;241m=\u001b[39m df_dengue[\u001b[38;5;124m\"\u001b[39m\u001b[38;5;124mmunicipio_id\u001b[39m\u001b[38;5;124m\"\u001b[39m]\u001b[38;5;241m.\u001b[39munique()\u001b[38;5;241m.\u001b[39mtolist()\n\u001b[0;32m      3\u001b[0m df_pop \u001b[38;5;241m=\u001b[39m fetch_ibge_population_density(mun_ids, \u001b[38;5;241m2020\u001b[39m)\n\u001b[0;32m      5\u001b[0m \u001b[38;5;66;03m# Salva população\u001b[39;00m\n",
      "File \u001b[1;32m~\\anaconda3\\Lib\\site-packages\\pandas\\core\\frame.py:3893\u001b[0m, in \u001b[0;36mDataFrame.__getitem__\u001b[1;34m(self, key)\u001b[0m\n\u001b[0;32m   3891\u001b[0m \u001b[38;5;28;01mif\u001b[39;00m \u001b[38;5;28mself\u001b[39m\u001b[38;5;241m.\u001b[39mcolumns\u001b[38;5;241m.\u001b[39mnlevels \u001b[38;5;241m>\u001b[39m \u001b[38;5;241m1\u001b[39m:\n\u001b[0;32m   3892\u001b[0m     \u001b[38;5;28;01mreturn\u001b[39;00m \u001b[38;5;28mself\u001b[39m\u001b[38;5;241m.\u001b[39m_getitem_multilevel(key)\n\u001b[1;32m-> 3893\u001b[0m indexer \u001b[38;5;241m=\u001b[39m \u001b[38;5;28mself\u001b[39m\u001b[38;5;241m.\u001b[39mcolumns\u001b[38;5;241m.\u001b[39mget_loc(key)\n\u001b[0;32m   3894\u001b[0m \u001b[38;5;28;01mif\u001b[39;00m is_integer(indexer):\n\u001b[0;32m   3895\u001b[0m     indexer \u001b[38;5;241m=\u001b[39m [indexer]\n",
      "File \u001b[1;32m~\\anaconda3\\Lib\\site-packages\\pandas\\core\\indexes\\base.py:3798\u001b[0m, in \u001b[0;36mIndex.get_loc\u001b[1;34m(self, key)\u001b[0m\n\u001b[0;32m   3793\u001b[0m     \u001b[38;5;28;01mif\u001b[39;00m \u001b[38;5;28misinstance\u001b[39m(casted_key, \u001b[38;5;28mslice\u001b[39m) \u001b[38;5;129;01mor\u001b[39;00m (\n\u001b[0;32m   3794\u001b[0m         \u001b[38;5;28misinstance\u001b[39m(casted_key, abc\u001b[38;5;241m.\u001b[39mIterable)\n\u001b[0;32m   3795\u001b[0m         \u001b[38;5;129;01mand\u001b[39;00m \u001b[38;5;28many\u001b[39m(\u001b[38;5;28misinstance\u001b[39m(x, \u001b[38;5;28mslice\u001b[39m) \u001b[38;5;28;01mfor\u001b[39;00m x \u001b[38;5;129;01min\u001b[39;00m casted_key)\n\u001b[0;32m   3796\u001b[0m     ):\n\u001b[0;32m   3797\u001b[0m         \u001b[38;5;28;01mraise\u001b[39;00m InvalidIndexError(key)\n\u001b[1;32m-> 3798\u001b[0m     \u001b[38;5;28;01mraise\u001b[39;00m \u001b[38;5;167;01mKeyError\u001b[39;00m(key) \u001b[38;5;28;01mfrom\u001b[39;00m \u001b[38;5;21;01merr\u001b[39;00m\n\u001b[0;32m   3799\u001b[0m \u001b[38;5;28;01mexcept\u001b[39;00m \u001b[38;5;167;01mTypeError\u001b[39;00m:\n\u001b[0;32m   3800\u001b[0m     \u001b[38;5;66;03m# If we have a listlike key, _check_indexing_error will raise\u001b[39;00m\n\u001b[0;32m   3801\u001b[0m     \u001b[38;5;66;03m#  InvalidIndexError. Otherwise we fall through and re-raise\u001b[39;00m\n\u001b[0;32m   3802\u001b[0m     \u001b[38;5;66;03m#  the TypeError.\u001b[39;00m\n\u001b[0;32m   3803\u001b[0m     \u001b[38;5;28mself\u001b[39m\u001b[38;5;241m.\u001b[39m_check_indexing_error(key)\n",
      "\u001b[1;31mKeyError\u001b[0m: 'municipio_id'"
     ]
    }
   ],
   "source": [
    "# 4. Coleta densidade populacional via IBGE\n",
    "mun_ids = df_dengue[\"municipio_id\"].unique().tolist()\n",
    "df_pop = fetch_ibge_population_density(mun_ids, 2020)\n",
    "\n",
    "# Salva população\n",
    "df_pop.to_csv(\"data/processed/pop_density.csv\", index=False)\n",
    "print(\"População salva:\", df_pop.shape)"
   ]
  },
  {
   "cell_type": "code",
   "execution_count": null,
   "id": "8b8b43b1-0f2c-4383-b0cd-b3e47433d3d9",
   "metadata": {},
   "outputs": [],
   "source": []
  }
 ],
 "metadata": {
  "kernelspec": {
   "display_name": "Python 3 (ipykernel)",
   "language": "python",
   "name": "python3"
  },
  "language_info": {
   "codemirror_mode": {
    "name": "ipython",
    "version": 3
   },
   "file_extension": ".py",
   "mimetype": "text/x-python",
   "name": "python",
   "nbconvert_exporter": "python",
   "pygments_lexer": "ipython3",
   "version": "3.11.7"
  }
 },
 "nbformat": 4,
 "nbformat_minor": 5
}
