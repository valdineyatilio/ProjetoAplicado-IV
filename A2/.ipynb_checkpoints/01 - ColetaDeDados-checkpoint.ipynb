{
 "cells": [
  {
   "cell_type": "code",
   "execution_count": 15,
   "id": "3aa52b64",
   "metadata": {},
   "outputs": [
    {
     "ename": "ModuleNotFoundError",
     "evalue": "No module named 'fetchers'",
     "output_type": "error",
     "traceback": [
      "\u001b[1;31m---------------------------------------------------------------------------\u001b[0m",
      "\u001b[1;31mModuleNotFoundError\u001b[0m                       Traceback (most recent call last)",
      "Cell \u001b[1;32mIn[15], line 8\u001b[0m\n\u001b[0;32m      3\u001b[0m \u001b[38;5;66;03m# ajusta path para src/\u001b[39;00m\n\u001b[0;32m      4\u001b[0m sys\u001b[38;5;241m.\u001b[39mpath\u001b[38;5;241m.\u001b[39mappend(\n\u001b[0;32m      5\u001b[0m     os\u001b[38;5;241m.\u001b[39mpath\u001b[38;5;241m.\u001b[39mabspath(os\u001b[38;5;241m.\u001b[39mpath\u001b[38;5;241m.\u001b[39mjoin(os\u001b[38;5;241m.\u001b[39mgetcwd(), \u001b[38;5;124m\"\u001b[39m\u001b[38;5;124m..\u001b[39m\u001b[38;5;124m\"\u001b[39m, \u001b[38;5;124m\"\u001b[39m\u001b[38;5;124msrc\u001b[39m\u001b[38;5;124m\"\u001b[39m))\n\u001b[0;32m      6\u001b[0m )\n\u001b[1;32m----> 8\u001b[0m \u001b[38;5;28;01mfrom\u001b[39;00m \u001b[38;5;21;01mfetchers\u001b[39;00m \u001b[38;5;28;01mimport\u001b[39;00m fetch_inmet_climate, fetch_ibge_population_density\n",
      "\u001b[1;31mModuleNotFoundError\u001b[0m: No module named 'fetchers'"
     ]
    }
   ],
   "source": [
    "import sys, os\n",
    "\n",
    "# ajusta path para src/\n",
    "sys.path.append(\n",
    "    os.path.abspath(os.path.join(os.getcwd(), \"..\", \"src\"))\n",
    ")\n",
    "\n",
    "from fetchers import fetch_inmet_climate, fetch_ibge_population_density"
   ]
  },
  {
   "cell_type": "code",
   "execution_count": 16,
   "id": "143e51ad",
   "metadata": {},
   "outputs": [],
   "source": [
    "import pandas as pd\n",
    "\n",
    "DENGUE_URL = (\n",
    "    \"https://raw.githubusercontent.com/\"\n",
    "    \"valdineyatilio/ProjetoAplicado-IV/\"\n",
    "    \"main/A1/DadosDengueCSV.csv\"\n",
    ")\n",
    "df_dengue = pd.read_csv(DENGUE_URL)"
   ]
  },
  {
   "cell_type": "code",
   "execution_count": 17,
   "id": "71000464-2de1-43e8-baab-61ac5a7459bd",
   "metadata": {},
   "outputs": [
    {
     "name": "stdout",
     "output_type": "stream",
     "text": [
      "Dengue: (812, 30)\n"
     ]
    },
    {
     "ename": "NameError",
     "evalue": "name 'fetch_inmet_climate' is not defined",
     "output_type": "error",
     "traceback": [
      "\u001b[1;31m---------------------------------------------------------------------------\u001b[0m",
      "\u001b[1;31mNameError\u001b[0m                                 Traceback (most recent call last)",
      "Cell \u001b[1;32mIn[17], line 15\u001b[0m\n\u001b[0;32m     13\u001b[0m \u001b[38;5;66;03m# 1.3 Clima INMET\u001b[39;00m\n\u001b[0;32m     14\u001b[0m stations \u001b[38;5;241m=\u001b[39m [\u001b[38;5;124m\"\u001b[39m\u001b[38;5;124mA001\u001b[39m\u001b[38;5;124m\"\u001b[39m, \u001b[38;5;124m\"\u001b[39m\u001b[38;5;124mA002\u001b[39m\u001b[38;5;124m\"\u001b[39m]\n\u001b[1;32m---> 15\u001b[0m df_clima \u001b[38;5;241m=\u001b[39m fetch_inmet_climate(stations, \u001b[38;5;124m\"\u001b[39m\u001b[38;5;124m2010-01-01\u001b[39m\u001b[38;5;124m\"\u001b[39m, \u001b[38;5;124m\"\u001b[39m\u001b[38;5;124m2025-12-31\u001b[39m\u001b[38;5;124m\"\u001b[39m)\n\u001b[0;32m     16\u001b[0m df_clima\u001b[38;5;241m.\u001b[39mto_csv(\u001b[38;5;124mf\u001b[39m\u001b[38;5;124m\"\u001b[39m\u001b[38;5;132;01m{\u001b[39;00mPROC\u001b[38;5;132;01m}\u001b[39;00m\u001b[38;5;124m/clima_inmet.csv\u001b[39m\u001b[38;5;124m\"\u001b[39m, index\u001b[38;5;241m=\u001b[39m\u001b[38;5;28;01mFalse\u001b[39;00m)\n\u001b[0;32m     17\u001b[0m \u001b[38;5;28mprint\u001b[39m(\u001b[38;5;124m\"\u001b[39m\u001b[38;5;124mClima:\u001b[39m\u001b[38;5;124m\"\u001b[39m, df_clima\u001b[38;5;241m.\u001b[39mshape)\n",
      "\u001b[1;31mNameError\u001b[0m: name 'fetch_inmet_climate' is not defined"
     ]
    }
   ],
   "source": [
    "# 1.1 Imports e pastas\n",
    "import os, pandas as pd\n",
    "\n",
    "BASE = os.path.abspath(os.path.join(os.getcwd(), \"..\"))\n",
    "PROC = os.path.join(BASE, \"data\", \"processed\")\n",
    "os.makedirs(PROC, exist_ok=True)\n",
    "\n",
    "# 1.2 Dengue\n",
    "DENGUE_URL = \"https://raw.githubusercontent.com/valdineyatilio/ProjetoAplicado-IV/main/A1/DadosDengueCSV.csv\"\n",
    "df_dengue = pd.read_csv(DENGUE_URL)\n",
    "print(\"Dengue:\", df_dengue.shape)\n",
    "\n",
    "# 1.3 Clima INMET\n",
    "stations = [\"A001\", \"A002\"]\n",
    "df_clima = fetch_inmet_climate(stations, \"2010-01-01\", \"2025-12-31\")\n",
    "df_clima.to_csv(f\"{PROC}/clima_inmet.csv\", index=False)\n",
    "print(\"Clima:\", df_clima.shape)\n",
    "\n",
    "# 1.4 População IBGE\n",
    "mun_ids = df_dengue[\"municipio_id\"].unique().tolist()\n",
    "df_pop = fetch_ibge_population_density(mun_ids, 2020)\n",
    "df_pop.to_csv(f\"{PROC}/pop_density.csv\", index=False)\n",
    "print(\"População:\", df_pop.shape)"
   ]
  },
  {
   "cell_type": "code",
   "execution_count": null,
   "id": "63f6239f",
   "metadata": {},
   "outputs": [],
   "source": []
  },
  {
   "cell_type": "code",
   "execution_count": null,
   "id": "ee3c07ab",
   "metadata": {},
   "outputs": [],
   "source": []
  },
  {
   "cell_type": "code",
   "execution_count": null,
   "id": "52c52d41",
   "metadata": {},
   "outputs": [],
   "source": []
  }
 ],
 "metadata": {
  "kernelspec": {
   "display_name": "Python 3 (ipykernel)",
   "language": "python",
   "name": "python3"
  },
  "language_info": {
   "codemirror_mode": {
    "name": "ipython",
    "version": 3
   },
   "file_extension": ".py",
   "mimetype": "text/x-python",
   "name": "python",
   "nbconvert_exporter": "python",
   "pygments_lexer": "ipython3",
   "version": "3.11.7"
  }
 },
 "nbformat": 4,
 "nbformat_minor": 5
}
