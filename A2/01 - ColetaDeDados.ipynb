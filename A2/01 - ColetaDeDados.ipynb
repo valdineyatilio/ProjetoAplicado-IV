{
 "cells": [
  {
   "cell_type": "code",
   "execution_count": 51,
   "id": "1e027408",
   "metadata": {},
   "outputs": [],
   "source": [
    "#Imports e configuração de caminho\n",
    "import sys, os\n",
    "import pandas as pd\n",
    "import numpy as np\n",
    "\n",
    "# Adiciona src/ ao path para importar modulos\n",
    "src_path = os.path.join(os.getcwd(), \"src\")\n",
    "sys.path.append(src_path)\n",
    "\n",
    "from fetchers import fetch_inmet_climate, fetch_ibge_population_density\n",
    "from src.utils import normalize_column_names\n",
    "\n",
    "# Cria pastas de saída\n",
    "os.makedirs(\"data/raw\", exist_ok=True)\n",
    "os.makedirs(\"data/processed\", exist_ok=True)"
   ]
  },
  {
   "cell_type": "code",
   "execution_count": 52,
   "id": "71000464-2de1-43e8-baab-61ac5a7459bd",
   "metadata": {},
   "outputs": [
    {
     "name": "stdout",
     "output_type": "stream",
     "text": [
      "Base de dengue carregada: (812, 30)\n"
     ]
    }
   ],
   "source": [
    "#Carregamento da base de dados\n",
    "df_dengue = pd.read_csv(\"https://raw.githubusercontent.com/valdineyatilio/ProjetoAplicado-IV/main/A1/DadosDengueCSV.csv\")\n",
    "df_dengue = normalize_column_names(df_dengue)\n",
    "df_dengue.to_csv(\"data/raw/dengue.csv\", index=False)\n",
    "\n",
    "print(\"Base de dengue carregada:\", df_dengue.shape)\n",
    "df_dengue.to_csv(\"data/raw/dengue.csv\", index=False)"
   ]
  },
  {
   "cell_type": "code",
   "execution_count": 53,
   "id": "8b8b43b1-0f2c-4383-b0cd-b3e47433d3d9",
   "metadata": {},
   "outputs": [
    {
     "name": "stdout",
     "output_type": "stream",
     "text": [
      "[WARN] Estação A507 retornou status 404. Pulando.\n",
      "[WARN] Estação A518 retornou status 404. Pulando.\n",
      "[WARN] Estação A541 retornou status 404. Pulando.\n",
      "[WARN] Nenhuma estação retornou dados válidos.\n",
      "[WARN] Nenhuma estação INMET retornou dados válidos. Gerando dados simulados.\n"
     ]
    }
   ],
   "source": [
    "#Coleta dados climáticos do INMET ou gera simulação\n",
    "stations = [\"A507\", \"A518\", \"A541\"] \n",
    "try:\n",
    "    df_clima = fetch_inmet_climate(stations, \"2015-01-01\", \"2025-12-31\")\n",
    "    if df_clima.empty:\n",
    "        raise RuntimeError(\"Dados vazios\")\n",
    "    print(\"Clima INMET coletado:\", df_clima.shape)\n",
    "except Exception:\n",
    "    print(\"[WARN] Nenhuma estação INMET retornou dados válidos. Gerando dados simulados.\")\n",
    "\n",
    "    weeks = pd.date_range(\"2018-01-01\", \"2023-12-31\", freq=\"W-MON\")\n",
    "    df_clima = pd.DataFrame({\n",
    "        \"datahora\": weeks,\n",
    "        \"station\": \"SIMULADA\",\n",
    "        \"year\": weeks.isocalendar().year,\n",
    "        \"week\": weeks.isocalendar().week,\n",
    "        \"t_mean\": np.random.normal(loc=22, scale=3, size=len(weeks)),\n",
    "        \"precip_sum\": np.random.gamma(shape=2, scale=10, size=len(weeks))\n",
    "    })\n",
    "\n",
    "df_clima = normalize_column_names(df_clima)\n",
    "df_clima.to_csv(\"data/raw/clima_inmet.csv\", index=False)\n"
   ]
  },
  {
   "cell_type": "code",
   "execution_count": 55,
   "id": "04d0826f",
   "metadata": {},
   "outputs": [
    {
     "ename": "KeyError",
     "evalue": "'Localidade_id'",
     "output_type": "error",
     "traceback": [
      "\u001b[1;31m---------------------------------------------------------------------------\u001b[0m",
      "\u001b[1;31mKeyError\u001b[0m                                  Traceback (most recent call last)",
      "File \u001b[1;32m~\\anaconda3\\Lib\\site-packages\\pandas\\core\\indexes\\base.py:3791\u001b[0m, in \u001b[0;36mIndex.get_loc\u001b[1;34m(self, key)\u001b[0m\n\u001b[0;32m   3790\u001b[0m \u001b[38;5;28;01mtry\u001b[39;00m:\n\u001b[1;32m-> 3791\u001b[0m     \u001b[38;5;28;01mreturn\u001b[39;00m \u001b[38;5;28mself\u001b[39m\u001b[38;5;241m.\u001b[39m_engine\u001b[38;5;241m.\u001b[39mget_loc(casted_key)\n\u001b[0;32m   3792\u001b[0m \u001b[38;5;28;01mexcept\u001b[39;00m \u001b[38;5;167;01mKeyError\u001b[39;00m \u001b[38;5;28;01mas\u001b[39;00m err:\n",
      "File \u001b[1;32mindex.pyx:152\u001b[0m, in \u001b[0;36mpandas._libs.index.IndexEngine.get_loc\u001b[1;34m()\u001b[0m\n",
      "File \u001b[1;32mindex.pyx:181\u001b[0m, in \u001b[0;36mpandas._libs.index.IndexEngine.get_loc\u001b[1;34m()\u001b[0m\n",
      "File \u001b[1;32mpandas\\_libs\\hashtable_class_helper.pxi:7080\u001b[0m, in \u001b[0;36mpandas._libs.hashtable.PyObjectHashTable.get_item\u001b[1;34m()\u001b[0m\n",
      "File \u001b[1;32mpandas\\_libs\\hashtable_class_helper.pxi:7088\u001b[0m, in \u001b[0;36mpandas._libs.hashtable.PyObjectHashTable.get_item\u001b[1;34m()\u001b[0m\n",
      "\u001b[1;31mKeyError\u001b[0m: 'Localidade_id'",
      "\nThe above exception was the direct cause of the following exception:\n",
      "\u001b[1;31mKeyError\u001b[0m                                  Traceback (most recent call last)",
      "Cell \u001b[1;32mIn[55], line 3\u001b[0m\n\u001b[0;32m      1\u001b[0m \u001b[38;5;66;03m#Coleta densidade populacional do IBGE ou gera simulação\u001b[39;00m\n\u001b[0;32m      2\u001b[0m \u001b[38;5;28;01mif\u001b[39;00m \u001b[38;5;124m\"\u001b[39m\u001b[38;5;124mlocalidade_id\u001b[39m\u001b[38;5;124m\"\u001b[39m \u001b[38;5;129;01min\u001b[39;00m df_dengue\u001b[38;5;241m.\u001b[39mcolumns:\n\u001b[1;32m----> 3\u001b[0m     mun_ids \u001b[38;5;241m=\u001b[39m df_dengue[\u001b[38;5;124m\"\u001b[39m\u001b[38;5;124mLocalidade_id\u001b[39m\u001b[38;5;124m\"\u001b[39m]\u001b[38;5;241m.\u001b[39mdropna()\u001b[38;5;241m.\u001b[39munique()\u001b[38;5;241m.\u001b[39mastype(\u001b[38;5;28mint\u001b[39m)\u001b[38;5;241m.\u001b[39mtolist()\n\u001b[0;32m      4\u001b[0m \u001b[38;5;28;01melse\u001b[39;00m:\n\u001b[0;32m      5\u001b[0m     \u001b[38;5;28;01mraise\u001b[39;00m \u001b[38;5;167;01mValueError\u001b[39;00m(\u001b[38;5;124m\"\u001b[39m\u001b[38;5;124mColuna \u001b[39m\u001b[38;5;124m'\u001b[39m\u001b[38;5;124mLocalidade_id\u001b[39m\u001b[38;5;124m'\u001b[39m\u001b[38;5;124m não encontrada na base de dengue.\u001b[39m\u001b[38;5;124m\"\u001b[39m)\n",
      "File \u001b[1;32m~\\anaconda3\\Lib\\site-packages\\pandas\\core\\frame.py:3893\u001b[0m, in \u001b[0;36mDataFrame.__getitem__\u001b[1;34m(self, key)\u001b[0m\n\u001b[0;32m   3891\u001b[0m \u001b[38;5;28;01mif\u001b[39;00m \u001b[38;5;28mself\u001b[39m\u001b[38;5;241m.\u001b[39mcolumns\u001b[38;5;241m.\u001b[39mnlevels \u001b[38;5;241m>\u001b[39m \u001b[38;5;241m1\u001b[39m:\n\u001b[0;32m   3892\u001b[0m     \u001b[38;5;28;01mreturn\u001b[39;00m \u001b[38;5;28mself\u001b[39m\u001b[38;5;241m.\u001b[39m_getitem_multilevel(key)\n\u001b[1;32m-> 3893\u001b[0m indexer \u001b[38;5;241m=\u001b[39m \u001b[38;5;28mself\u001b[39m\u001b[38;5;241m.\u001b[39mcolumns\u001b[38;5;241m.\u001b[39mget_loc(key)\n\u001b[0;32m   3894\u001b[0m \u001b[38;5;28;01mif\u001b[39;00m is_integer(indexer):\n\u001b[0;32m   3895\u001b[0m     indexer \u001b[38;5;241m=\u001b[39m [indexer]\n",
      "File \u001b[1;32m~\\anaconda3\\Lib\\site-packages\\pandas\\core\\indexes\\base.py:3798\u001b[0m, in \u001b[0;36mIndex.get_loc\u001b[1;34m(self, key)\u001b[0m\n\u001b[0;32m   3793\u001b[0m     \u001b[38;5;28;01mif\u001b[39;00m \u001b[38;5;28misinstance\u001b[39m(casted_key, \u001b[38;5;28mslice\u001b[39m) \u001b[38;5;129;01mor\u001b[39;00m (\n\u001b[0;32m   3794\u001b[0m         \u001b[38;5;28misinstance\u001b[39m(casted_key, abc\u001b[38;5;241m.\u001b[39mIterable)\n\u001b[0;32m   3795\u001b[0m         \u001b[38;5;129;01mand\u001b[39;00m \u001b[38;5;28many\u001b[39m(\u001b[38;5;28misinstance\u001b[39m(x, \u001b[38;5;28mslice\u001b[39m) \u001b[38;5;28;01mfor\u001b[39;00m x \u001b[38;5;129;01min\u001b[39;00m casted_key)\n\u001b[0;32m   3796\u001b[0m     ):\n\u001b[0;32m   3797\u001b[0m         \u001b[38;5;28;01mraise\u001b[39;00m InvalidIndexError(key)\n\u001b[1;32m-> 3798\u001b[0m     \u001b[38;5;28;01mraise\u001b[39;00m \u001b[38;5;167;01mKeyError\u001b[39;00m(key) \u001b[38;5;28;01mfrom\u001b[39;00m \u001b[38;5;21;01merr\u001b[39;00m\n\u001b[0;32m   3799\u001b[0m \u001b[38;5;28;01mexcept\u001b[39;00m \u001b[38;5;167;01mTypeError\u001b[39;00m:\n\u001b[0;32m   3800\u001b[0m     \u001b[38;5;66;03m# If we have a listlike key, _check_indexing_error will raise\u001b[39;00m\n\u001b[0;32m   3801\u001b[0m     \u001b[38;5;66;03m#  InvalidIndexError. Otherwise we fall through and re-raise\u001b[39;00m\n\u001b[0;32m   3802\u001b[0m     \u001b[38;5;66;03m#  the TypeError.\u001b[39;00m\n\u001b[0;32m   3803\u001b[0m     \u001b[38;5;28mself\u001b[39m\u001b[38;5;241m.\u001b[39m_check_indexing_error(key)\n",
      "\u001b[1;31mKeyError\u001b[0m: 'Localidade_id'"
     ]
    }
   ],
   "source": [
    "#Coleta densidade populacional do IBGE ou gera simulação\n",
    "if \"localidade_id\" in df_dengue.columns:\n",
    "    mun_ids = df_dengue[\"Localidade_id\"].dropna().unique().astype(int).tolist()\n",
    "else:\n",
    "    raise ValueError(\"Coluna 'Localidade_id' não encontrada na base de dengue.\")\n",
    "\n",
    "try:\n",
    "    df_pop = fetch_ibge_population_density(mun_ids, 2020)\n",
    "    if df_pop.empty:\n",
    "        raise RuntimeError(\"Dados vazios\")\n",
    "    print(\"População IBGE coletada:\", df_pop.shape)\n",
    "except Exception:\n",
    "    print(\"[WARN] Nenhum município IBGE retornou dados válidos. Gerando dados simulados.\")\n",
    "\n",
    "    df_pop = pd.DataFrame({\n",
    "        \"municipio_id\": mun_ids,\n",
    "        \"pop_density\": np.random.uniform(50, 5000, size=len(mun_ids))\n",
    "    })\n",
    "\n",
    "df_pop.to_csv(\"data/raw/pop_density.csv\", index=False)"
   ]
  },
  {
   "cell_type": "code",
   "execution_count": 49,
   "id": "aad439fe",
   "metadata": {},
   "outputs": [
    {
     "name": "stdout",
     "output_type": "stream",
     "text": [
      "Coleta de dados concluída com sucesso.\n",
      "Arquivos salvos em data/raw/:\n",
      "- dengue.csv\n",
      "- clima_inmet.csv\n",
      "- pop_density.csv\n"
     ]
    }
   ],
   "source": [
    "#Conclusão\n",
    "print(\"Coleta de dados concluída com sucesso.\")\n",
    "print(\"Arquivos salvos em data/raw/:\")\n",
    "print(\"- dengue.csv\")\n",
    "print(\"- clima_inmet.csv\")\n",
    "print(\"- pop_density.csv\")"
   ]
  },
  {
   "cell_type": "code",
   "execution_count": 39,
   "id": "e4e6bcda-4b38-475e-909e-f568d8297639",
   "metadata": {},
   "outputs": [],
   "source": [
    "#Arquivos Gerados\n",
    "#- data/raw/dengue.csv → base original do InfoDengue\n",
    "# data/raw/clima_inmet.csv → dados climáticos simulados\n",
    "# data/raw/pop_density.csv → densidade populacional simulada\n"
   ]
  },
  {
   "cell_type": "code",
   "execution_count": null,
   "id": "d2fb2227-61ec-474b-bf50-edf9a7fa3917",
   "metadata": {},
   "outputs": [],
   "source": []
  }
 ],
 "metadata": {
  "kernelspec": {
   "display_name": "Python 3 (ipykernel)",
   "language": "python",
   "name": "python3"
  },
  "language_info": {
   "codemirror_mode": {
    "name": "ipython",
    "version": 3
   },
   "file_extension": ".py",
   "mimetype": "text/x-python",
   "name": "python",
   "nbconvert_exporter": "python",
   "pygments_lexer": "ipython3",
   "version": "3.11.7"
  }
 },
 "nbformat": 4,
 "nbformat_minor": 5
}
