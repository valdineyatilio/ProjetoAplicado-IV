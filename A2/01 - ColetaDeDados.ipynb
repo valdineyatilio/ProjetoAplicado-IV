{
 "cells": [
  {
   "cell_type": "code",
   "execution_count": 3,
   "id": "088d3ab2",
   "metadata": {},
   "outputs": [
    {
     "ename": "ModuleNotFoundError",
     "evalue": "No module named 'fetchers'",
     "output_type": "error",
     "traceback": [
      "\u001b[1;31m---------------------------------------------------------------------------\u001b[0m",
      "\u001b[1;31mModuleNotFoundError\u001b[0m                       Traceback (most recent call last)",
      "Cell \u001b[1;32mIn[3], line 4\u001b[0m\n\u001b[0;32m      1\u001b[0m \u001b[38;5;28;01mimport\u001b[39;00m \u001b[38;5;21;01msys\u001b[39;00m\n\u001b[0;32m      2\u001b[0m sys\u001b[38;5;241m.\u001b[39mpath\u001b[38;5;241m.\u001b[39mappend(\u001b[38;5;124m\"\u001b[39m\u001b[38;5;124msrc\u001b[39m\u001b[38;5;124m\"\u001b[39m)\n\u001b[1;32m----> 4\u001b[0m \u001b[38;5;28;01mfrom\u001b[39;00m \u001b[38;5;21;01mfetchers\u001b[39;00m \u001b[38;5;28;01mimport\u001b[39;00m fetch_inmet_climate, fetch_ibge_population_density\n",
      "\u001b[1;31mModuleNotFoundError\u001b[0m: No module named 'fetchers'"
     ]
    }
   ],
   "source": [
    "import sys\n",
    "sys.path.append(\"src\")\n",
    "\n",
    "from fetchers import fetch_inmet_climate, fetch_ibge_population_density"
   ]
  },
  {
   "cell_type": "code",
   "execution_count": null,
   "id": "143e51ad",
   "metadata": {},
   "outputs": [],
   "source": []
  },
  {
   "cell_type": "code",
   "execution_count": 8,
   "id": "71000464-2de1-43e8-baab-61ac5a7459bd",
   "metadata": {},
   "outputs": [],
   "source": [
    "#Imports e criação de pasta raw\n",
    "import os\n",
    "import pandas as pd\n",
    "\n",
    "RAW_DIR = \"data/raw\"\n",
    "os.makedirs(RAW_DIR, exist_ok=True)"
   ]
  },
  {
   "cell_type": "code",
   "execution_count": 9,
   "id": "63f6239f",
   "metadata": {},
   "outputs": [],
   "source": [
    "#Download da série de dengue\n",
    "dengue_url = (\n",
    "    \"https://raw.githubusercontent.com/\"\n",
    "    \"valdineyatilio/ProjetoAplicado-IV/\"\n",
    "    \"main/A1/DadosDengueCSV.csv\"\n",
    ")\n",
    "df_dengue = pd.read_csv(dengue_url)\n",
    "df_dengue.to_csv(f\"{RAW_DIR}/dengue.csv\", index=False)"
   ]
  },
  {
   "cell_type": "code",
   "execution_count": 10,
   "id": "3a830e37",
   "metadata": {},
   "outputs": [
    {
     "ename": "ModuleNotFoundError",
     "evalue": "No module named 'fetchers'",
     "output_type": "error",
     "traceback": [
      "\u001b[1;31m---------------------------------------------------------------------------\u001b[0m",
      "\u001b[1;31mModuleNotFoundError\u001b[0m                       Traceback (most recent call last)",
      "Cell \u001b[1;32mIn[10], line 2\u001b[0m\n\u001b[0;32m      1\u001b[0m \u001b[38;5;66;03m#Coleta de clima (INMET)\u001b[39;00m\n\u001b[1;32m----> 2\u001b[0m \u001b[38;5;28;01mfrom\u001b[39;00m \u001b[38;5;21;01mfetchers\u001b[39;00m \u001b[38;5;28;01mimport\u001b[39;00m fetch_inmet_climate\n\u001b[0;32m      4\u001b[0m stations \u001b[38;5;241m=\u001b[39m [\u001b[38;5;124m\"\u001b[39m\u001b[38;5;124mA001\u001b[39m\u001b[38;5;124m\"\u001b[39m, \u001b[38;5;124m\"\u001b[39m\u001b[38;5;124mA002\u001b[39m\u001b[38;5;124m\"\u001b[39m]\n\u001b[0;32m      5\u001b[0m df_clima \u001b[38;5;241m=\u001b[39m fetch_inmet_climate(\n\u001b[0;32m      6\u001b[0m     station_ids\u001b[38;5;241m=\u001b[39mstations,\n\u001b[0;32m      7\u001b[0m     start\u001b[38;5;241m=\u001b[39m\u001b[38;5;124m\"\u001b[39m\u001b[38;5;124m2010-01-01\u001b[39m\u001b[38;5;124m\"\u001b[39m,\n\u001b[0;32m      8\u001b[0m     end\u001b[38;5;241m=\u001b[39m\u001b[38;5;124m\"\u001b[39m\u001b[38;5;124m2025-12-31\u001b[39m\u001b[38;5;124m\"\u001b[39m\n\u001b[0;32m      9\u001b[0m )\n",
      "\u001b[1;31mModuleNotFoundError\u001b[0m: No module named 'fetchers'"
     ]
    }
   ],
   "source": [
    "#Coleta de clima (INMET)\n",
    "from fetchers import fetch_inmet_climate\n",
    "\n",
    "stations = [\"A001\", \"A002\"]\n",
    "df_clima = fetch_inmet_climate(\n",
    "    station_ids=stations,\n",
    "    start=\"2010-01-01\",\n",
    "    end=\"2025-12-31\"\n",
    ")\n",
    "df_clima.to_csv(f\"{RAW_DIR}/clima_inmet.csv\", index=False)"
   ]
  },
  {
   "cell_type": "code",
   "execution_count": 11,
   "id": "fded238a",
   "metadata": {},
   "outputs": [
    {
     "ename": "ModuleNotFoundError",
     "evalue": "No module named 'fetchers'",
     "output_type": "error",
     "traceback": [
      "\u001b[1;31m---------------------------------------------------------------------------\u001b[0m",
      "\u001b[1;31mModuleNotFoundError\u001b[0m                       Traceback (most recent call last)",
      "Cell \u001b[1;32mIn[11], line 2\u001b[0m\n\u001b[0;32m      1\u001b[0m \u001b[38;5;66;03m#Coleta de densidade populacional (IBGE)\u001b[39;00m\n\u001b[1;32m----> 2\u001b[0m \u001b[38;5;28;01mfrom\u001b[39;00m \u001b[38;5;21;01mfetchers\u001b[39;00m \u001b[38;5;28;01mimport\u001b[39;00m fetch_ibge_population_density\n\u001b[0;32m      4\u001b[0m municipios \u001b[38;5;241m=\u001b[39m [\u001b[38;5;241m3106200\u001b[39m, \u001b[38;5;241m3106309\u001b[39m]\n\u001b[0;32m      5\u001b[0m df_pop \u001b[38;5;241m=\u001b[39m fetch_ibge_population_density(\n\u001b[0;32m      6\u001b[0m     municipio_ids\u001b[38;5;241m=\u001b[39mmunicipios,\n\u001b[0;32m      7\u001b[0m     year\u001b[38;5;241m=\u001b[39m\u001b[38;5;241m2020\u001b[39m\n\u001b[0;32m      8\u001b[0m )\n",
      "\u001b[1;31mModuleNotFoundError\u001b[0m: No module named 'fetchers'"
     ]
    }
   ],
   "source": [
    "#Coleta de densidade populacional (IBGE)\n",
    "from fetchers import fetch_ibge_population_density\n",
    "\n",
    "municipios = [3106200, 3106309]\n",
    "df_pop = fetch_ibge_population_density(\n",
    "    municipio_ids=municipios,\n",
    "    year=2020\n",
    ")\n",
    "df_pop.to_csv(f\"{RAW_DIR}/pop_density.csv\", index=False)"
   ]
  },
  {
   "cell_type": "code",
   "execution_count": null,
   "id": "e81e8a1c",
   "metadata": {},
   "outputs": [],
   "source": []
  },
  {
   "cell_type": "code",
   "execution_count": null,
   "id": "2d21d81b",
   "metadata": {},
   "outputs": [],
   "source": []
  },
  {
   "cell_type": "code",
   "execution_count": null,
   "id": "7746af1a",
   "metadata": {},
   "outputs": [],
   "source": []
  }
 ],
 "metadata": {
  "kernelspec": {
   "display_name": "Python 3 (ipykernel)",
   "language": "python",
   "name": "python3"
  },
  "language_info": {
   "codemirror_mode": {
    "name": "ipython",
    "version": 3
   },
   "file_extension": ".py",
   "mimetype": "text/x-python",
   "name": "python",
   "nbconvert_exporter": "python",
   "pygments_lexer": "ipython3",
   "version": "3.11.7"
  }
 },
 "nbformat": 4,
 "nbformat_minor": 5
}
