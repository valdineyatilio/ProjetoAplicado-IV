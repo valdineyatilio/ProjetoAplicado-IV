{
 "cells": [
  {
   "cell_type": "code",
   "execution_count": 18,
   "id": "1e027408",
   "metadata": {},
   "outputs": [],
   "source": [
    "# 1. Imports e configuração de caminho\n",
    "import sys, os\n",
    "import pandas as pd\n",
    "\n",
    "# Adiciona src/ ao path\n",
    "src_path = os.path.join(os.getcwd(), \"src\")\n",
    "sys.path.append(src_path)\n",
    "\n",
    "from fetchers import fetch_inmet_climate, fetch_ibge_population_density\n",
    "\n",
    "# Cria pasta de saída\n",
    "os.makedirs(\"data/processed\", exist_ok=True)"
   ]
  },
  {
   "cell_type": "code",
   "execution_count": 19,
   "id": "71000464-2de1-43e8-baab-61ac5a7459bd",
   "metadata": {},
   "outputs": [
    {
     "name": "stdout",
     "output_type": "stream",
     "text": [
      "Base de dengue carregada: (812, 30)\n"
     ]
    }
   ],
   "source": [
    "# 2. Carrega base \n",
    "DENGUE_URL = (\n",
    "    \"https://raw.githubusercontent.com/\"\n",
    "    \"valdineyatilio/ProjetoAplicado-IV/\"\n",
    "    \"main/A1/DadosDengueCSV.csv\"\n",
    ")\n",
    "\n",
    "df_dengue = pd.read_csv(DENGUE_URL)\n",
    "print(\"Base de dengue carregada:\", df_dengue.shape)"
   ]
  },
  {
   "cell_type": "code",
   "execution_count": 20,
   "id": "8b8b43b1-0f2c-4383-b0cd-b3e47433d3d9",
   "metadata": {},
   "outputs": [
    {
     "name": "stdout",
     "output_type": "stream",
     "text": [
      "Colunas disponíveis: ['data_iniSE', 'SE', 'casos_est', 'casos_est_min', 'casos_est_max', 'casos', 'p_rt1', 'p_inc100k', 'Localidade_id', 'nivel', 'id', 'versao_modelo', 'tweet', 'Rt', 'pop', 'tempmin', 'umidmax', 'receptivo', 'transmissao', 'nivel_inc', 'umidmed', 'umidmin', 'tempmed', 'tempmax', 'casprov', 'casprov_est', 'casprov_est_min', 'casprov_est_max', 'casconf', 'notif_accum_year']\n"
     ]
    }
   ],
   "source": [
    "print(\"Colunas disponíveis:\", df_dengue.columns.tolist())"
   ]
  },
  {
   "cell_type": "code",
   "execution_count": 21,
   "id": "04d0826f",
   "metadata": {},
   "outputs": [
    {
     "name": "stdout",
     "output_type": "stream",
     "text": [
      "[WARN] Estação A507 retornou status 404. Pulando.\n",
      "[WARN] Estação A518 retornou status 404. Pulando.\n",
      "[WARN] Estação A541 retornou status 404. Pulando.\n",
      "[WARN] Nenhuma estação INMET retornou dados válidos. Gerando dados simulados.\n",
      "Clima salvo: (313, 6)\n"
     ]
    }
   ],
   "source": [
    "# 3. Coleta clima INMET \n",
    "stations = [\"A507\", \"A518\", \"A541\"]  \n",
    "\n",
    "try:\n",
    "    df_clima = fetch_inmet_climate(stations, \"2015-01-01\", \"2025-12-31\")\n",
    "except RuntimeError:\n",
    "    print(\"[WARN] Nenhuma estação INMET retornou dados válidos. Gerando dados simulados.\")\n",
    "\n",
    "    import numpy as np\n",
    "    weeks = pd.date_range(\"2018-01-01\", \"2023-12-31\", freq=\"W-MON\")\n",
    "    df_clima = pd.DataFrame({\n",
    "        \"datahora\": weeks,\n",
    "        \"station\": \"SIMULADA\",\n",
    "        \"year\": weeks.isocalendar().year,\n",
    "        \"week\": weeks.isocalendar().week,\n",
    "        \"t_mean\": np.random.normal(loc=22, scale=3, size=len(weeks)),\n",
    "        \"precip_sum\": np.random.gamma(shape=2, scale=10, size=len(weeks))\n",
    "    })\n",
    "\n",
    "# Salva clima\n",
    "df_clima.to_csv(\"data/processed/clima_inmet.csv\", index=False)\n",
    "print(\"Clima salvo:\", df_clima.shape)"
   ]
  },
  {
   "cell_type": "code",
   "execution_count": 22,
   "id": "aad439fe",
   "metadata": {},
   "outputs": [
    {
     "name": "stdout",
     "output_type": "stream",
     "text": [
      "[WARN] IBGE retornou status 500 para município 0. Pulando.\n"
     ]
    },
    {
     "ename": "RuntimeError",
     "evalue": "Nenhum município IBGE retornou dados válidos.",
     "output_type": "error",
     "traceback": [
      "\u001b[1;31m---------------------------------------------------------------------------\u001b[0m",
      "\u001b[1;31mRuntimeError\u001b[0m                              Traceback (most recent call last)",
      "Cell \u001b[1;32mIn[22], line 3\u001b[0m\n\u001b[0;32m      1\u001b[0m \u001b[38;5;66;03m# 4. Coleta densidade populacional via IBGE\u001b[39;00m\n\u001b[0;32m      2\u001b[0m mun_ids \u001b[38;5;241m=\u001b[39m df_dengue[\u001b[38;5;124m\"\u001b[39m\u001b[38;5;124mLocalidade_id\u001b[39m\u001b[38;5;124m\"\u001b[39m]\u001b[38;5;241m.\u001b[39munique()\u001b[38;5;241m.\u001b[39mtolist()\n\u001b[1;32m----> 3\u001b[0m df_pop \u001b[38;5;241m=\u001b[39m fetch_ibge_population_density(mun_ids, \u001b[38;5;241m2020\u001b[39m)\n\u001b[0;32m      5\u001b[0m \u001b[38;5;66;03m# Salva população\u001b[39;00m\n\u001b[0;32m      6\u001b[0m df_pop\u001b[38;5;241m.\u001b[39mto_csv(\u001b[38;5;124m\"\u001b[39m\u001b[38;5;124mdata/processed/pop_density.csv\u001b[39m\u001b[38;5;124m\"\u001b[39m, index\u001b[38;5;241m=\u001b[39m\u001b[38;5;28;01mFalse\u001b[39;00m)\n",
      "File \u001b[1;32m~\\Documents\\GitHub\\ProjetoAplicado-IV\\A2\\src\\fetchers.py:94\u001b[0m, in \u001b[0;36mfetch_ibge_population_density\u001b[1;34m(municipio_ids, year, base_url)\u001b[0m\n\u001b[0;32m     91\u001b[0m     records\u001b[38;5;241m.\u001b[39mappend({\u001b[38;5;124m\"\u001b[39m\u001b[38;5;124mmunicipio_id\u001b[39m\u001b[38;5;124m\"\u001b[39m: m, \u001b[38;5;124m\"\u001b[39m\u001b[38;5;124mpop_density\u001b[39m\u001b[38;5;124m\"\u001b[39m: density})\n\u001b[0;32m     93\u001b[0m \u001b[38;5;28;01mif\u001b[39;00m \u001b[38;5;129;01mnot\u001b[39;00m records:\n\u001b[1;32m---> 94\u001b[0m     \u001b[38;5;28;01mraise\u001b[39;00m \u001b[38;5;167;01mRuntimeError\u001b[39;00m(\u001b[38;5;124m\"\u001b[39m\u001b[38;5;124mNenhum município IBGE retornou dados válidos.\u001b[39m\u001b[38;5;124m\"\u001b[39m)\n\u001b[0;32m     96\u001b[0m \u001b[38;5;28;01mreturn\u001b[39;00m pd\u001b[38;5;241m.\u001b[39mDataFrame(records)\n",
      "\u001b[1;31mRuntimeError\u001b[0m: Nenhum município IBGE retornou dados válidos."
     ]
    }
   ],
   "source": [
    "# 4. Coleta densidade populacional via IBGE\n",
    "mun_ids = df_dengue[\"Localidade_id\"].unique().tolist()\n",
    "df_pop = fetch_ibge_population_density(mun_ids, 2020)\n",
    "\n",
    "# Salva população\n",
    "df_pop.to_csv(\"data/processed/pop_density.csv\", index=False)\n",
    "print(\"População salva:\", df_pop.shape)"
   ]
  },
  {
   "cell_type": "code",
   "execution_count": null,
   "id": "e4e6bcda-4b38-475e-909e-f568d8297639",
   "metadata": {},
   "outputs": [],
   "source": []
  }
 ],
 "metadata": {
  "kernelspec": {
   "display_name": "Python 3 (ipykernel)",
   "language": "python",
   "name": "python3"
  },
  "language_info": {
   "codemirror_mode": {
    "name": "ipython",
    "version": 3
   },
   "file_extension": ".py",
   "mimetype": "text/x-python",
   "name": "python",
   "nbconvert_exporter": "python",
   "pygments_lexer": "ipython3",
   "version": "3.11.7"
  }
 },
 "nbformat": 4,
 "nbformat_minor": 5
}
