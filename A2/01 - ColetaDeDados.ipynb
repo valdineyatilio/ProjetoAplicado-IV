{
 "cells": [
  {
   "cell_type": "code",
   "execution_count": 1,
   "id": "1e027408",
   "metadata": {},
   "outputs": [],
   "source": [
    "#Imports e configuração de caminho\n",
    "import sys, os\n",
    "import pandas as pd\n",
    "import numpy as np\n",
    "\n",
    "# Adiciona src/ ao path para importar fetchers.py\n",
    "src_path = os.path.join(os.getcwd(), \"src\")\n",
    "sys.path.append(src_path)\n",
    "\n",
    "from fetchers import fetch_inmet_climate, fetch_ibge_population_density\n",
    "\n",
    "# Cria pastas de saída\n",
    "os.makedirs(\"data/raw\", exist_ok=True)\n",
    "os.makedirs(\"data/processed\", exist_ok=True)"
   ]
  },
  {
   "cell_type": "code",
   "execution_count": 2,
   "id": "71000464-2de1-43e8-baab-61ac5a7459bd",
   "metadata": {},
   "outputs": [
    {
     "name": "stdout",
     "output_type": "stream",
     "text": [
      "Base de dengue carregada: (812, 30)\n"
     ]
    }
   ],
   "source": [
    "# Carregamento da base\n",
    "DENGUE_URL = (\n",
    "    \"https://raw.githubusercontent.com/\"\n",
    "    \"valdineyatilio/ProjetoAplicado-IV/\"\n",
    "    \"main/A1/DadosDengueCSV.csv\"\n",
    ")\n",
    "\n",
    "df_dengue = pd.read_csv(DENGUE_URL)\n",
    "print(\"Base de dengue carregada:\", df_dengue.shape)\n",
    "df_dengue.to_csv(\"data/raw/dengue.csv\", index=False)"
   ]
  },
  {
   "cell_type": "code",
   "execution_count": 3,
   "id": "8b8b43b1-0f2c-4383-b0cd-b3e47433d3d9",
   "metadata": {},
   "outputs": [
    {
     "name": "stdout",
     "output_type": "stream",
     "text": [
      "[WARN] Estação A507 retornou status 404. Pulando.\n",
      "[WARN] Estação A518 retornou status 404. Pulando.\n",
      "[WARN] Estação A541 retornou status 404. Pulando.\n",
      "[WARN] Nenhuma estação retornou dados válidos.\n",
      "[WARN] Nenhuma estação INMET retornou dados válidos. Gerando dados simulados.\n"
     ]
    }
   ],
   "source": [
    "#Coleta dados climáticos do INMET ou gera simulação\n",
    "stations = [\"A507\", \"A518\", \"A541\"] \n",
    "try:\n",
    "    df_clima = fetch_inmet_climate(stations, \"2015-01-01\", \"2025-12-31\")\n",
    "    if df_clima.empty:\n",
    "        raise RuntimeError(\"Dados vazios\")\n",
    "    print(\"Clima INMET coletado:\", df_clima.shape)\n",
    "except Exception:\n",
    "    print(\"[WARN] Nenhuma estação INMET retornou dados válidos. Gerando dados simulados.\")\n",
    "\n",
    "    weeks = pd.date_range(\"2018-01-01\", \"2023-12-31\", freq=\"W-MON\")\n",
    "    df_clima = pd.DataFrame({\n",
    "        \"datahora\": weeks,\n",
    "        \"station\": \"SIMULADA\",\n",
    "        \"year\": weeks.isocalendar().year,\n",
    "        \"week\": weeks.isocalendar().week,\n",
    "        \"t_mean\": np.random.normal(loc=22, scale=3, size=len(weeks)),\n",
    "        \"precip_sum\": np.random.gamma(shape=2, scale=10, size=len(weeks))\n",
    "    })\n",
    "\n",
    "df_clima.to_csv(\"data/raw/clima_inmet.csv\", index=False)"
   ]
  },
  {
   "cell_type": "code",
   "execution_count": 4,
   "id": "04d0826f",
   "metadata": {},
   "outputs": [
    {
     "name": "stdout",
     "output_type": "stream",
     "text": [
      "[WARN] IBGE retornou status 500 para município 0. Pulando.\n",
      "[WARN] Nenhum município IBGE retornou dados válidos. Gerando dados simulados.\n"
     ]
    }
   ],
   "source": [
    "#Coleta densidade populacional do IBGE ou gera simulação\n",
    "if \"Localidade_id\" in df_dengue.columns:\n",
    "    mun_ids = df_dengue[\"Localidade_id\"].dropna().unique().astype(int).tolist()\n",
    "else:\n",
    "    raise ValueError(\"Coluna 'Localidade_id' não encontrada na base de dengue.\")\n",
    "\n",
    "try:\n",
    "    df_pop = fetch_ibge_population_density(mun_ids, 2020)\n",
    "    if df_pop.empty:\n",
    "        raise RuntimeError(\"Dados vazios\")\n",
    "    print(\"População IBGE coletada:\", df_pop.shape)\n",
    "except Exception:\n",
    "    print(\"[WARN] Nenhum município IBGE retornou dados válidos. Gerando dados simulados.\")\n",
    "\n",
    "    df_pop = pd.DataFrame({\n",
    "        \"municipio_id\": mun_ids,\n",
    "        \"pop_density\": np.random.uniform(50, 5000, size=len(mun_ids))\n",
    "    })\n",
    "\n",
    "df_pop.to_csv(\"data/raw/pop_density.csv\", index=False)"
   ]
  },
  {
   "cell_type": "code",
   "execution_count": 5,
   "id": "aad439fe",
   "metadata": {},
   "outputs": [
    {
     "name": "stdout",
     "output_type": "stream",
     "text": [
      "Coleta de dados concluída com sucesso.\n",
      "Arquivos salvos em data/raw/:\n",
      "- dengue.csv\n",
      "- clima_inmet.csv\n",
      "- pop_density.csv\n"
     ]
    }
   ],
   "source": [
    "#Conclusão\n",
    "print(\"Coleta de dados concluída com sucesso.\")\n",
    "print(\"Arquivos salvos em data/raw/:\")\n",
    "print(\"- dengue.csv\")\n",
    "print(\"- clima_inmet.csv\")\n",
    "print(\"- pop_density.csv\")"
   ]
  },
  {
   "cell_type": "code",
   "execution_count": 6,
   "id": "e4e6bcda-4b38-475e-909e-f568d8297639",
   "metadata": {},
   "outputs": [],
   "source": [
    "#Arquivos Gerados\n",
    "#- data/raw/dengue.csv → base original do InfoDengue\n",
    "# data/raw/clima_inmet.csv → dados climáticos simulados\n",
    "# data/raw/pop_density.csv → densidade populacional simulada\n"
   ]
  },
  {
   "cell_type": "code",
   "execution_count": null,
   "id": "d2fb2227-61ec-474b-bf50-edf9a7fa3917",
   "metadata": {},
   "outputs": [],
   "source": []
  }
 ],
 "metadata": {
  "kernelspec": {
   "display_name": "Python 3 (ipykernel)",
   "language": "python",
   "name": "python3"
  },
  "language_info": {
   "codemirror_mode": {
    "name": "ipython",
    "version": 3
   },
   "file_extension": ".py",
   "mimetype": "text/x-python",
   "name": "python",
   "nbconvert_exporter": "python",
   "pygments_lexer": "ipython3",
   "version": "3.12.7"
  }
 },
 "nbformat": 4,
 "nbformat_minor": 5
}
