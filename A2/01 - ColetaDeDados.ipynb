{
 "cells": [
  {
   "cell_type": "code",
   "execution_count": 31,
   "id": "133217cf",
   "metadata": {},
   "outputs": [],
   "source": [
    "import sys, os\n",
    "SRC_PATH = os.path.join(os.getcwd(), \"src\")\n",
    "sys.path.append(SRC_PATH)\n",
    "\n",
    "from fetchers import fetch_inmet_climate, fetch_ibge_population_density\n",
    "\n",
    "# Leitura da base de dados\n",
    "import pandas as pd\n",
    "DENGUE_URL = (\n",
    "    \"https://raw.githubusercontent.com/\" \n",
    "    \"valdineyatilio/ProjetoAplicado-IV/\"\n",
    "    \"main/A1/DadosDengueCSV.csv\"\n",
    ")\n",
    "df_dengue = pd.read_csv(DENGUE_URL)"
   ]
  },
  {
   "cell_type": "code",
   "execution_count": 32,
   "id": "71000464-2de1-43e8-baab-61ac5a7459bd",
   "metadata": {},
   "outputs": [
    {
     "name": "stdout",
     "output_type": "stream",
     "text": [
      "CWD: C:\\Users\\VAP\\Documents\\GitHub\\ProjetoAplicado-IV\\A2\n",
      "Existe fetchers.py em src?: True\n"
     ]
    }
   ],
   "source": [
    "print(\"CWD:\", os.getcwd())\n",
    "print(\"Existe fetchers.py em src?:\", os.path.isfile(os.path.join(SRC_PATH, \"fetchers.py\")))"
   ]
  },
  {
   "cell_type": "code",
   "execution_count": 33,
   "id": "f6f16ac0",
   "metadata": {},
   "outputs": [
    {
     "ename": "HTTPError",
     "evalue": "404 Client Error: Not Found for url: https://apitempo.inmet.gov.br/estacao/A001/dados?dataInicial=2010-01-01&dataFinal=2025-12-31",
     "output_type": "error",
     "traceback": [
      "\u001b[1;31m---------------------------------------------------------------------------\u001b[0m",
      "\u001b[1;31mHTTPError\u001b[0m                                 Traceback (most recent call last)",
      "Cell \u001b[1;32mIn[33], line 20\u001b[0m\n\u001b[0;32m     18\u001b[0m \u001b[38;5;66;03m# Tenta coletar clima; pula estações inválidas\u001b[39;00m\n\u001b[0;32m     19\u001b[0m stations \u001b[38;5;241m=\u001b[39m [\u001b[38;5;124m\"\u001b[39m\u001b[38;5;124mA001\u001b[39m\u001b[38;5;124m\"\u001b[39m, \u001b[38;5;124m\"\u001b[39m\u001b[38;5;124mA002\u001b[39m\u001b[38;5;124m\"\u001b[39m]\n\u001b[1;32m---> 20\u001b[0m df_clima \u001b[38;5;241m=\u001b[39m fetch_inmet_climate(stations, \u001b[38;5;124m\"\u001b[39m\u001b[38;5;124m2010-01-01\u001b[39m\u001b[38;5;124m\"\u001b[39m, \u001b[38;5;124m\"\u001b[39m\u001b[38;5;124m2025-12-31\u001b[39m\u001b[38;5;124m\"\u001b[39m)\n\u001b[0;32m     21\u001b[0m df_clima\u001b[38;5;241m.\u001b[39mto_csv(\u001b[38;5;124m\"\u001b[39m\u001b[38;5;124m../data/processed/clima_inmet.csv\u001b[39m\u001b[38;5;124m\"\u001b[39m, index\u001b[38;5;241m=\u001b[39m\u001b[38;5;28;01mFalse\u001b[39;00m)\n\u001b[0;32m     23\u001b[0m \u001b[38;5;66;03m# Tenta coletar população; pula municípios sem resposta\u001b[39;00m\n",
      "File \u001b[1;32m~\\Documents\\GitHub\\ProjetoAplicado-IV\\A2\\src\\fetchers.py:16\u001b[0m, in \u001b[0;36mfetch_inmet_climate\u001b[1;34m(station_ids, start, end, base_url)\u001b[0m\n\u001b[0;32m     11\u001b[0m \u001b[38;5;28;01mfor\u001b[39;00m st \u001b[38;5;129;01min\u001b[39;00m station_ids:\n\u001b[0;32m     12\u001b[0m     resp \u001b[38;5;241m=\u001b[39m requests\u001b[38;5;241m.\u001b[39mget(\n\u001b[0;32m     13\u001b[0m         \u001b[38;5;124mf\u001b[39m\u001b[38;5;124m\"\u001b[39m\u001b[38;5;132;01m{\u001b[39;00mbase_url\u001b[38;5;132;01m}\u001b[39;00m\u001b[38;5;124m/\u001b[39m\u001b[38;5;132;01m{\u001b[39;00mst\u001b[38;5;132;01m}\u001b[39;00m\u001b[38;5;124m/dados\u001b[39m\u001b[38;5;124m\"\u001b[39m,\n\u001b[0;32m     14\u001b[0m         params\u001b[38;5;241m=\u001b[39m{\u001b[38;5;124m\"\u001b[39m\u001b[38;5;124mdataInicial\u001b[39m\u001b[38;5;124m\"\u001b[39m: start, \u001b[38;5;124m\"\u001b[39m\u001b[38;5;124mdataFinal\u001b[39m\u001b[38;5;124m\"\u001b[39m: end}\n\u001b[0;32m     15\u001b[0m     )\n\u001b[1;32m---> 16\u001b[0m     resp\u001b[38;5;241m.\u001b[39mraise_for_status()\n\u001b[0;32m     17\u001b[0m     raw \u001b[38;5;241m=\u001b[39m pd\u001b[38;5;241m.\u001b[39mDataFrame(resp\u001b[38;5;241m.\u001b[39mjson())\n\u001b[0;32m     18\u001b[0m     raw[\u001b[38;5;124m\"\u001b[39m\u001b[38;5;124mdatahora\u001b[39m\u001b[38;5;124m\"\u001b[39m] \u001b[38;5;241m=\u001b[39m pd\u001b[38;5;241m.\u001b[39mto_datetime(raw[\u001b[38;5;124m\"\u001b[39m\u001b[38;5;124mdatahora\u001b[39m\u001b[38;5;124m\"\u001b[39m])\n",
      "File \u001b[1;32m~\\anaconda3\\Lib\\site-packages\\requests\\models.py:1026\u001b[0m, in \u001b[0;36mResponse.raise_for_status\u001b[1;34m(self)\u001b[0m\n\u001b[0;32m   1021\u001b[0m     http_error_msg \u001b[38;5;241m=\u001b[39m (\n\u001b[0;32m   1022\u001b[0m         \u001b[38;5;124mf\u001b[39m\u001b[38;5;124m\"\u001b[39m\u001b[38;5;132;01m{\u001b[39;00m\u001b[38;5;28mself\u001b[39m\u001b[38;5;241m.\u001b[39mstatus_code\u001b[38;5;132;01m}\u001b[39;00m\u001b[38;5;124m Server Error: \u001b[39m\u001b[38;5;132;01m{\u001b[39;00mreason\u001b[38;5;132;01m}\u001b[39;00m\u001b[38;5;124m for url: \u001b[39m\u001b[38;5;132;01m{\u001b[39;00m\u001b[38;5;28mself\u001b[39m\u001b[38;5;241m.\u001b[39murl\u001b[38;5;132;01m}\u001b[39;00m\u001b[38;5;124m\"\u001b[39m\n\u001b[0;32m   1023\u001b[0m     )\n\u001b[0;32m   1025\u001b[0m \u001b[38;5;28;01mif\u001b[39;00m http_error_msg:\n\u001b[1;32m-> 1026\u001b[0m     \u001b[38;5;28;01mraise\u001b[39;00m HTTPError(http_error_msg, response\u001b[38;5;241m=\u001b[39m\u001b[38;5;28mself\u001b[39m)\n",
      "\u001b[1;31mHTTPError\u001b[0m: 404 Client Error: Not Found for url: https://apitempo.inmet.gov.br/estacao/A001/dados?dataInicial=2010-01-01&dataFinal=2025-12-31"
     ]
    }
   ],
   "source": [
    "import sys, os\n",
    "sys.path.append(os.path.join(os.getcwd(), \"src\"))\n",
    "from fetchers import fetch_inmet_climate, fetch_ibge_population_density\n",
    "\n",
    "import pandas as pd\n",
    "\n",
    "# Carrega dengue diretamente da A1\n",
    "DENGUE_URL = (\n",
    "    \"https://raw.githubusercontent.com/\"\n",
    "    \"valdineyatilio/ProjetoAplicado-IV/\"\n",
    "    \"main/A1/DadosDengueCSV.csv\"\n",
    ")\n",
    "df_dengue = pd.read_csv(DENGUE_URL)\n",
    "\n",
    "# Cria pasta processed\n",
    "os.makedirs(\"../data/processed\", exist_ok=True)\n",
    "\n",
    "# Tenta coletar clima; pula estações inválidas\n",
    "stations = [\"A001\", \"A002\"]\n",
    "df_clima = fetch_inmet_climate(stations, \"2010-01-01\", \"2025-12-31\")\n",
    "df_clima.to_csv(\"../data/processed/clima_inmet.csv\", index=False)\n",
    "\n",
    "# Tenta coletar população; pula municípios sem resposta\n",
    "mun_ids = df_dengue[\"municipio_id\"].unique().tolist()\n",
    "df_pop = fetch_ibge_population_density(mun_ids, 2020)\n",
    "df_pop.to_csv(\"../data/processed/pop_density.csv\", index=False)"
   ]
  },
  {
   "cell_type": "code",
   "execution_count": null,
   "id": "9835ac98",
   "metadata": {},
   "outputs": [],
   "source": []
  }
 ],
 "metadata": {
  "kernelspec": {
   "display_name": "Python 3 (ipykernel)",
   "language": "python",
   "name": "python3"
  },
  "language_info": {
   "codemirror_mode": {
    "name": "ipython",
    "version": 3
   },
   "file_extension": ".py",
   "mimetype": "text/x-python",
   "name": "python",
   "nbconvert_exporter": "python",
   "pygments_lexer": "ipython3",
   "version": "3.11.7"
  }
 },
 "nbformat": 4,
 "nbformat_minor": 5
}
