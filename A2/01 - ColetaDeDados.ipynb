{
 "cells": [
  {
   "cell_type": "code",
   "execution_count": 28,
   "id": "b0e57cae",
   "metadata": {},
   "outputs": [],
   "source": [
    "import sys, os\n",
    "SRC_PATH = os.path.join(os.getcwd(), \"src\")\n",
    "sys.path.append(SRC_PATH)\n",
    "\n",
    "from fetchers import fetch_inmet_climate, fetch_ibge_population_density\n",
    "\n",
    "# Leitura da base de dados\n",
    "import pandas as pd\n",
    "DENGUE_URL = (\n",
    "    \"https://raw.githubusercontent.com/\" \n",
    "    \"valdineyatilio/ProjetoAplicado-IV/\"\n",
    "    \"main/A1/DadosDengueCSV.csv\"\n",
    ")\n",
    "df_dengue = pd.read_csv(DENGUE_URL)"
   ]
  },
  {
   "cell_type": "code",
   "execution_count": null,
   "id": "71000464-2de1-43e8-baab-61ac5a7459bd",
   "metadata": {},
   "outputs": [],
   "source": []
  }
 ],
 "metadata": {
  "kernelspec": {
   "display_name": "Python 3 (ipykernel)",
   "language": "python",
   "name": "python3"
  },
  "language_info": {
   "codemirror_mode": {
    "name": "ipython",
    "version": 3
   },
   "file_extension": ".py",
   "mimetype": "text/x-python",
   "name": "python",
   "nbconvert_exporter": "python",
   "pygments_lexer": "ipython3",
   "version": "3.11.7"
  }
 },
 "nbformat": 4,
 "nbformat_minor": 5
}
