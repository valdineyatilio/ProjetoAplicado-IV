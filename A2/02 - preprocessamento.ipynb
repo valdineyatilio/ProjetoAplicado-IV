{
 "cells": [
  {
   "cell_type": "code",
   "execution_count": 12,
   "id": "f9d9ed05",
   "metadata": {},
   "outputs": [],
   "source": [
    "#Imports e configuração de caminho\n",
    "import pandas as pd\n",
    "import numpy as np\n",
    "from sklearn.preprocessing import MinMaxScaler\n",
    "import os\n",
    "\n",
    "# Cria pasta de saída\n",
    "os.makedirs(\"data/processed\", exist_ok=True)"
   ]
  },
  {
   "cell_type": "code",
   "execution_count": 13,
   "id": "51751d44",
   "metadata": {},
   "outputs": [
    {
     "name": "stdout",
     "output_type": "stream",
     "text": [
      "Dengue: (812, 30)\n",
      "Clima: (313, 6)\n",
      "População: (1, 2)\n"
     ]
    }
   ],
   "source": [
    "#Carrega os dados brutos\n",
    "df_dengue = pd.read_csv(\"data/raw/dengue.csv\")\n",
    "df_clima  = pd.read_csv(\"data/raw/clima_inmet.csv\")\n",
    "df_pop    = pd.read_csv(\"data/raw/pop_density.csv\")\n",
    "\n",
    "print(\"Dengue:\", df_dengue.shape)\n",
    "print(\"Clima:\", df_clima.shape)\n",
    "print(\"População:\", df_pop.shape)"
   ]
  },
  {
   "cell_type": "code",
   "execution_count": 14,
   "id": "4d8e446c",
   "metadata": {},
   "outputs": [],
   "source": [
    "#Prepara base de dengue\n",
    "# Extrai ano e semana epidemiológica\n",
    "df_dengue[\"data_iniSE\"] = pd.to_datetime(df_dengue[\"data_iniSE\"])\n",
    "df_dengue[\"year\"] = df_dengue[\"data_iniSE\"].dt.isocalendar().year\n",
    "df_dengue[\"week\"] = df_dengue[\"data_iniSE\"].dt.isocalendar().week\n",
    "\n",
    "# Agrupa por semana e município\n",
    "df_dengue = df_dengue.groupby([\"Localidade_id\", \"year\", \"week\"], as_index=False).agg({\n",
    "    \"casos\": \"sum\",\n",
    "    \"Rt\": \"mean\",\n",
    "    \"pop\": \"mean\",\n",
    "    \"tempmed\": \"mean\",\n",
    "    \"umidmed\": \"mean\"\n",
    "})"
   ]
  },
  {
   "cell_type": "code",
   "execution_count": 15,
   "id": "f96b6ebd",
   "metadata": {},
   "outputs": [],
   "source": [
    "#junta com clima e população\n",
    "df = df_dengue.merge(df_clima, on=[\"year\", \"week\"], how=\"left\")\n",
    "df = df.merge(df_pop, left_on=\"Localidade_id\", right_on=\"municipio_id\", how=\"left\")"
   ]
  },
  {
   "cell_type": "code",
   "execution_count": 17,
   "id": "b706a89c",
   "metadata": {},
   "outputs": [
    {
     "name": "stderr",
     "output_type": "stream",
     "text": [
      "C:\\Users\\valdiney.pedro\\AppData\\Local\\Temp\\ipykernel_6740\\1246418781.py:6: FutureWarning: DataFrame.interpolate with object dtype is deprecated and will raise in a future version. Call obj.infer_objects(copy=False) before interpolating instead.\n",
      "  df = df.interpolate(method=\"linear\")\n"
     ]
    }
   ],
   "source": [
    "# Atualiza tipos antes de interpolar\n",
    "df = df.infer_objects(copy=False)\n",
    "\n",
    "# Interpolação e preenchimento com métodos atualizados\n",
    "df = df.infer_objects(copy=False)\n",
    "# Converte colunas de tipo 'object' para tipos mais específicos\n",
    "df = df.infer_objects(copy=False)\n",
    "\n",
    "#Aplica interpolação e preenchimento\n",
    "df = df.interpolate(method=\"linear\")\n",
    "df = df.ffill()\n",
    "df = df.bfill()\n",
    "df = df.ffill()\n",
    "df = df.bfill()"
   ]
  },
  {
   "cell_type": "code",
   "execution_count": null,
   "id": "34a7a03e",
   "metadata": {},
   "outputs": [],
   "source": []
  },
  {
   "cell_type": "code",
   "execution_count": null,
   "id": "e7bf92da",
   "metadata": {},
   "outputs": [],
   "source": []
  },
  {
   "cell_type": "code",
   "execution_count": null,
   "id": "7aa6395f",
   "metadata": {},
   "outputs": [],
   "source": []
  },
  {
   "cell_type": "code",
   "execution_count": null,
   "id": "58968d8b",
   "metadata": {},
   "outputs": [],
   "source": []
  },
  {
   "cell_type": "code",
   "execution_count": null,
   "id": "c4117a43",
   "metadata": {},
   "outputs": [],
   "source": []
  }
 ],
 "metadata": {
  "kernelspec": {
   "display_name": "Python 3 (ipykernel)",
   "language": "python",
   "name": "python3"
  },
  "language_info": {
   "codemirror_mode": {
    "name": "ipython",
    "version": 3
   },
   "file_extension": ".py",
   "mimetype": "text/x-python",
   "name": "python",
   "nbconvert_exporter": "python",
   "pygments_lexer": "ipython3",
   "version": "3.12.7"
  }
 },
 "nbformat": 4,
 "nbformat_minor": 5
}
