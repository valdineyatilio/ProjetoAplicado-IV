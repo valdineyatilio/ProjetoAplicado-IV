{
 "cells": [
  {
   "cell_type": "code",
   "execution_count": 3,
   "id": "6bd96874",
   "metadata": {},
   "outputs": [],
   "source": [
    "import requests\n",
    "import pandas as pd\n",
    "\n",
    "def fetch_inmet_climate(\n",
    "    station_ids: list[str],\n",
    "    start: str,\n",
    "    end: str,\n",
    "    base_url: str = \"https://apitempo.inmet.gov.br/estacao\"\n",
    ") -> pd.DataFrame:\n",
    "    \"\"\"\n",
    "    Coleta dados horários de temperatura e precipitação das estações INMET\n",
    "    e retorna agregados semanais (média de temp e soma de precip).\n",
    "    \"\"\"\n",
    "    dfs = []\n",
    "    for st in station_ids:\n",
    "        resp = requests.get(\n",
    "            f\"{base_url}/{st}/dados\",\n",
    "            params={\"dataInicial\": start, \"dataFinal\": end}\n",
    "        )\n",
    "        resp.raise_for_status()\n",
    "        raw = pd.DataFrame(resp.json())\n",
    "        raw[\"datahora\"] = pd.to_datetime(raw[\"datahora\"])\n",
    "        raw.set_index(\"datahora\", inplace=True)\n",
    "        # renomeia colunas e agrega por semana iniciando na segunda\n",
    "        dfw = (\n",
    "            raw[[\"temp\", \"prec\"]]\n",
    "            .rename(columns={\"temp\": \"t_mean\", \"prec\": \"precip_sum\"})\n",
    "            .resample(\"W-MON\")\n",
    "            .agg({\"t_mean\": \"mean\", \"precip_sum\": \"sum\"})\n",
    "            .reset_index()\n",
    "        )\n",
    "        dfw[\"station\"] = st\n",
    "        dfw[\"year\"] = dfw[\"datahora\"].dt.isocalendar().year\n",
    "        dfw[\"week\"] = dfw[\"datahora\"].dt.isocalendar().week\n",
    "        dfs.append(dfw)\n",
    "    return pd.concat(dfs, ignore_index=True)\n",
    "\n",
    "def fetch_ibge_population_density(\n",
    "    municipio_ids: list[int],\n",
    "    year: int,\n",
    "    base_url: str = \"https://servicodados.ibge.gov.br/api/v3/agregados/6579\"\n",
    ") -> pd.DataFrame:\n",
    "    \"\"\"\n",
    "    Coleta densidade populacional por município no ano informado.\n",
    "    \"\"\"\n",
    "    records = []\n",
    "    for m in municipio_ids:\n",
    "        url = f\"{base_url}/periodos/{year}/variaveis/9324?localidades=N3[{m}]\"\n",
    "        resp = requests.get(url)\n",
    "        resp.raise_for_status()\n",
    "        data = resp.json()[0][\"resultados\"][0][\"series\"][0][\"serie\"]\n",
    "        density = float(data[str(year)])\n",
    "        records.append({\"municipio_id\": m, \"pop_density\": density})\n",
    "    return pd.DataFrame(records)"
   ]
  },
  {
   "cell_type": "code",
   "execution_count": null,
   "id": "55a33a05",
   "metadata": {},
   "outputs": [],
   "source": []
  }
 ],
 "metadata": {
  "kernelspec": {
   "display_name": "Python 3 (ipykernel)",
   "language": "python",
   "name": "python3"
  },
  "language_info": {
   "codemirror_mode": {
    "name": "ipython",
    "version": 3
   },
   "file_extension": ".py",
   "mimetype": "text/x-python",
   "name": "python",
   "nbconvert_exporter": "python",
   "pygments_lexer": "ipython3",
   "version": "3.11.7"
  }
 },
 "nbformat": 4,
 "nbformat_minor": 5
}
